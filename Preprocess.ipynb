{
  "cells": [
    {
      "cell_type": "code",
      "execution_count": null,
      "id": "e1fde966-585a-4c66-a954-3e4fd6213af9",
      "metadata": {},
      "outputs": [],
      "source": [
        "import os\n",
        "import re\n",
        "import glob\n",
        "\n",
        "print(\"Preprocessing Notebook: Cleaning .txt and .m files...\")"
      ]
    },
    {
      "cell_type": "code",
      "execution_count": null,
      "id": "d2e46688-3e37-47ea-875e-8d977c47cb76",
      "metadata": {},
      "outputs": [],
      "source": [
        "# 1) Clean .txt files into processed_txt_files\n",
        "\n",
        "def clean_text(content):\n",
        "    # Remove non-ASCII and excessive whitespace\n",
        "    cleaned = re.sub(r'[^\\x00-\\x7F]+', ' ', content)\n",
        "    cleaned = re.sub(r'\\s+', ' ', cleaned).strip()\n",
        "    return cleaned\n",
        "\n",
        "input_folder = \"./files\"\n",
        "output_folder_txt = \"./files/processed_txt_files\"\n",
        "os.makedirs(output_folder_txt, exist_ok=True)\n",
        "\n",
        "txt_files = [f for f in os.listdir(input_folder) if f.endswith('.txt')]\n",
        "\n",
        "for txt_file in txt_files:\n",
        "    txt_path = os.path.join(input_folder, txt_file)\n",
        "    with open(txt_path, 'r', encoding='utf-8', errors='ignore') as f:\n",
        "        raw = f.read()\n",
        "    cleaned_content = clean_text(raw)\n",
        "    out_path = os.path.join(output_folder_txt, txt_file)\n",
        "    with open(out_path, 'w', encoding='utf-8') as out_f:\n",
        "        out_f.write(cleaned_content)\n",
        "    print(f\"Processed TXT: {txt_file}\")\n",
        "\n",
        "print(\"All .txt files processed into 'processed_txt_files' folder!\")"
      ]
    },
    {
      "cell_type": "code",
      "execution_count": null,
      "id": "ba5eab1b-b50a-4f28-bfb7-2d3c3b3dc98c",
      "metadata": {},
      "outputs": [],
      "source": [
        "# 2) Clean .m files into processed_m_files\n",
        "\n",
        "def process_matlab_files(folder_path):\n",
        "    out_folder = os.path.join(folder_path, \"processed_m_files\")\n",
        "    os.makedirs(out_folder, exist_ok=True)\n",
        "\n",
        "    matlab_files = [f for f in os.listdir(folder_path) if f.endswith('.m')]\n",
        "\n",
        "    for mf in matlab_files:\n",
        "        in_path = os.path.join(folder_path, mf)\n",
        "        out_path = os.path.join(out_folder, f\"cleaned_{mf}\")\n",
        "\n",
        "        with open(in_path, 'r', encoding='utf-8', errors='ignore') as f:\n",
        "            lines = f.readlines()\n",
        "\n",
        "        cleaned_lines = []\n",
        "        for line in lines:\n",
        "            ln = line.strip()\n",
        "            if ln.startswith('%') or ln.startswith('function') or re.match(r'^\\s*\\w+\\s*=\\s*', ln):\n",
        "                cleaned_lines.append(ln)\n",
        "\n",
        "        with open(out_path, 'w', encoding='utf-8') as out_f:\n",
        "            out_f.write(\"\\n\".join(cleaned_lines))\n",
        "\n",
        "        print(f\"Processed M-file: {mf}\")\n",
        "\n",
        "process_matlab_files(\"./files\")\n",
        "print(\"All .m files processed into 'processed_m_files' folder!\")"
      ]
    }
  ],
  "metadata": {
    "kernelspec": {
      "display_name": "Python 3 (ipykernel)",
      "language": "python",
      "name": "python3"
    },
    "language_info": {
      "name": "python",
      "version": "3.12.2"
    }
  },
  "nbformat": 4,
  "nbformat_minor": 5
}
