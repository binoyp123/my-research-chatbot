{
  "cells": [
    {
      "cell_type": "code",
      "execution_count": null,
      "id": "054dcad6-d7f7-4f15-a857-1c5615aa96d9",
      "metadata": {},
      "outputs": [],
      "source": [
        "import os\n",
        "import openai\n",
        "import numpy as np\n",
        "from sentence_transformers import SentenceTransformer\n",
        "from pinecone import Pinecone, Index\n",
        "\n",
        "print(\"Chatbot Notebook: Retrieval + GPT\")"
      ]
    },
    {
      "cell_type": "code",
      "execution_count": null,
      "id": "f0b3055e-6edf-472d-99cc-eb288ac41f1c",
      "metadata": {},
      "outputs": [],
      "source": [
        "# 1) Use environment variables for keys\n",
        "OPENAI_API_KEY = os.environ.get(\"OPENAI_API_KEY\")\n",
        "PINECONE_API_KEY = os.environ.get(\"PINECONE_API_KEY\")\n",
        "\n",
        "if not OPENAI_API_KEY:\n",
        "    raise ValueError(\"Missing OPENAI_API_KEY environment variable.\")\n",
        "if not PINECONE_API_KEY:\n",
        "    raise ValueError(\"Missing PINECONE_API_KEY environment variable.\")\n",
        "\n",
        "# 2) set openai key\n",
        "openai.api_key = OPENAI_API_KEY\n",
        "\n",
        "# 3) connect to pinecone data-plane\n",
        "INDEX_NAME = \"chatbot-index\"\n",
        "pc = Pinecone(api_key=PINECONE_API_KEY)\n",
        "desc = pc.describe_index(INDEX_NAME)\n",
        "host = desc.host\n",
        "index = Index(api_key=PINECONE_API_KEY, host=host)\n",
        "\n",
        "# 4) sentence transformers model\n",
        "model = SentenceTransformer('all-MiniLM-L6-v2')"
      ]
    },
    {
      "cell_type": "code",
      "execution_count": null,
      "id": "f19f3482-2c71-49e6-b245-8b3347c148b7",
      "metadata": {},
      "outputs": [],
      "source": [
        "# 5) simple chatbot function\n",
        "def chatbot_loop():\n",
        "    print(\"Chatbot ready! Type 'exit' or 'quit' to stop.\\n\")\n",
        "    while True:\n",
        "        user_input = input(\"User: \")\n",
        "        if user_input.lower() in [\"exit\", \"quit\"]:\n",
        "            print(\"Goodbye!\")\n",
        "            break\n",
        "\n",
        "        # embed\n",
        "        q_vec = model.encode(user_input).tolist()\n",
        "        results = index.query(\n",
        "            vector=q_vec,\n",
        "            top_k=3,\n",
        "            include_metadata=True\n",
        "        )\n",
        "\n",
        "        # gather chunks\n",
        "        retrieved_chunks = []\n",
        "        for match in results.get(\"matches\", []):\n",
        "            meta = match.get(\"metadata\")\n",
        "            if meta:\n",
        "                retrieved_chunks.append(meta.get(\"text\", \"\"))\n",
        "\n",
        "        context_text = \"\\n\\n\".join(retrieved_chunks)\n",
        "\n",
        "        prompt = f\"\"\"\n",
        "        You are an expert assistant. Use ONLY the following context to answer the user's question.\n",
        "        Context:\n",
        "        {context_text}\n",
        "\n",
        "        Question:\n",
        "        {user_input}\n",
        "\n",
        "        If the answer is not found in the context, reply with: \"I don't know based on the research data provided.\" \n",
        "        \"\"\"\n",
        "\n",
        "        try:\n",
        "            resp = openai.ChatCompletion.create(\n",
        "                model=\"gpt-3.5-turbo\",\n",
        "                messages=[{\"role\": \"system\", \"content\": prompt}],\n",
        "                temperature=0.7\n",
        "            )\n",
        "            answer = resp.choices[0].message.content\n",
        "        except Exception as e:\n",
        "            answer = f\"Error calling OpenAI API: {e}\"\n",
        "\n",
        "        print(f\"Chatbot: {answer}\\n{'-'*60}\\n\")"
      ]
    },
    {
      "cell_type": "code",
      "execution_count": null,
      "id": "35f028bd-d35f-4934-81b4-2dc964e6a5a0",
      "metadata": {},
      "outputs": [],
      "source": [
        "# 6) run it!\n",
        "chatbot_loop()"
      ]
    }
  ],
  "metadata": {
    "kernelspec": {
      "display_name": "Python 3 (ipykernel)",
      "language": "python",
      "name": "python3"
    },
    "language_info": {
      "name": "python",
      "version": "3.12.2"
    }
  },
  "nbformat": 4,
  "nbformat_minor": 5
}
