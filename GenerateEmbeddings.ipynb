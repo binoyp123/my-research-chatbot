{
  "cells": [
    {
      "cell_type": "code",
      "execution_count": null,
      "id": "9c2d7be8-5b42-4e76-8b86-29e2222bc04a",
      "metadata": {},
      "outputs": [],
      "source": [
        "import os\n",
        "import numpy as np\n",
        "from sentence_transformers import SentenceTransformer\n",
        "from pinecone import Pinecone, ServerlessSpec, Index\n",
        "\n",
        "print(\"Embedding + Upsert Notebook\")"
      ]
    },
    {
      "cell_type": "code",
      "execution_count": null,
      "id": "53dc2fd9-2f37-4a42-b56e-0b9e54bb709c",
      "metadata": {},
      "outputs": [],
      "source": [
        "# 1) Get Pinecone key from environment\n",
        "PINECONE_API_KEY = os.environ.get(\"PINECONE_API_KEY\")\n",
        "INDEX_NAME = \"chatbot-index\"\n",
        "\n",
        "# 2) Connect (control-plane) to Pinecone\n",
        "pc = Pinecone(api_key=PINECONE_API_KEY)\n",
        "\n",
        "if INDEX_NAME not in pc.list_indexes().names():\n",
        "    pc.create_index(\n",
        "        name=INDEX_NAME,\n",
        "        dimension=384,\n",
        "        metric=\"cosine\",\n",
        "        spec=ServerlessSpec(cloud=\"aws\", region=\"us-east-1\")\n",
        "    )\n",
        "    print(f\"Index '{INDEX_NAME}' created!\")\n",
        "else:\n",
        "    print(f\"Index '{INDEX_NAME}' already exists.\")\n",
        "\n",
        "# 3) Describe index, get host, create data-plane Index\n",
        "desc = pc.describe_index(INDEX_NAME)\n",
        "host = desc.host\n",
        "index = Index(api_key=PINECONE_API_KEY, host=host)\n",
        "\n",
        "# 4) Initialize embedding model\n",
        "model = SentenceTransformer('all-MiniLM-L6-v2')\n",
        "\n",
        "# 5) Helper for chunking\n",
        "def chunk_text(text, chunk_size=2000, overlap=200):\n",
        "    chunks = []\n",
        "    start = 0\n",
        "    while start < len(text):\n",
        "        end = start + chunk_size\n",
        "        chunk = text[start:end]\n",
        "        chunks.append(chunk)\n",
        "        start += (chunk_size - overlap)\n",
        "    return chunks\n",
        "\n",
        "# 6) Upsert function\n",
        "def upsert_folder(folder_path, file_extension, chunk_size=2000, overlap=200):\n",
        "    for file_name in os.listdir(folder_path):\n",
        "        if file_name.endswith(file_extension):\n",
        "            full_path = os.path.join(folder_path, file_name)\n",
        "            with open(full_path, 'r', encoding='utf-8') as f:\n",
        "                content = f.read()\n",
        "            text_chunks = chunk_text(content, chunk_size, overlap)\n",
        "            for i, chunk in enumerate(text_chunks):\n",
        "                chunk_id = f\"{file_name}_chunk_{i}\"\n",
        "                vec = model.encode(chunk).tolist()\n",
        "                metadata = {\n",
        "                    \"text\": chunk,\n",
        "                    \"original_file\": file_name,\n",
        "                    \"chunk_index\": i\n",
        "                }\n",
        "                index.upsert([(chunk_id, vec, metadata)])\n",
        "            print(f\"Upserted {len(text_chunks)} chunks for {file_name}\")"
      ]
    },
    {
      "cell_type": "code",
      "execution_count": null,
      "id": "731a4bf9-44e3-4915-b02f-b7c1139d273a",
      "metadata": {},
      "outputs": [],
      "source": [
        "# 7) Actually upsert from processed folders\n",
        "TXT_DIR = \"./files/processed_txt_files\"\n",
        "M_DIR   = \"./files/processed_m_files\"\n",
        "\n",
        "upsert_folder(TXT_DIR, '.txt')\n",
        "upsert_folder(M_DIR,   '.m')\n",
        "\n",
        "print(\"All chunks upserted!\")"
      ]
    },
    {
      "cell_type": "code",
      "execution_count": null,
      "id": "65de2b5f-299a-45c4-9850-548d5834d3c1",
      "metadata": {},
      "outputs": [],
      "source": [
        "# 8) Optional: test a query\n",
        "test_query = \"Explain how wing rotation works for insect flight\"\n",
        "test_vec   = model.encode(test_query).tolist()\n",
        "res = index.query(vector=test_vec, top_k=3, include_metadata=True)\n",
        "\n",
        "print(f\"Test Query: {test_query}\\n\")\n",
        "for match in res[\"matches\"]:\n",
        "    cid = match[\"id\"]\n",
        "    sc  = match[\"score\"]\n",
        "    print(f\"ID: {cid}, Score: {sc}\")\n",
        "    if \"metadata\" in match:\n",
        "        snippet = match[\"metadata\"].get(\"text\", \"\")\n",
        "        print(f\"Snippet start: {snippet[:150]}\\n\")\n",
        "    else:\n",
        "        print(\"No metadata.\")"
      ]
    }
  ],
  "metadata": {
    "kernelspec": {
      "display_name": "Python 3 (ipykernel)",
      "name": "python3",
      "language": "python"
    },
    "language_info": {
      "name": "python",
      "version": "3.12.2"
    }
  },
  "nbformat": 4,
  "nbformat_minor": 5
}
